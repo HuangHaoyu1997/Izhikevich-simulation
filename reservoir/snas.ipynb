{
 "cells": [
  {
   "cell_type": "code",
   "execution_count": 12,
   "metadata": {},
   "outputs": [],
   "source": [
    "from src import *\n",
    "\n",
    "from functools import partial\n",
    "from multiprocessing import Pool\n",
    "\n",
    "from brian2 import *\n",
    "from sklearn.preprocessing import MinMaxScaler\n",
    "from sklearn.model_selection import train_test_split\n",
    "import warnings\n",
    "\n",
    "warnings.filterwarnings(\"ignore\")"
   ]
  },
  {
   "cell_type": "code",
   "execution_count": 14,
   "metadata": {},
   "outputs": [],
   "source": [
    "prefs.codegen.target = \"numpy\"\n",
    "start_scope()\n",
    "np.random.seed(100)\n",
    "data_path = './data/MNIST/raw/' # '../../../Data/MNIST_data/'\n"
   ]
  },
  {
   "cell_type": "code",
   "execution_count": 64,
   "metadata": {},
   "outputs": [],
   "source": [
    "# -----simulation parameter setting-------\n",
    "coding_n = 3           # cos编码基函数数量\n",
    "MNIST_shape = (1, 28*28)\n",
    "coding_duration = 30   # 编码序列的长度\n",
    "duration = coding_duration * MNIST_shape[0]\n",
    "F_train = 0.05\n",
    "F_validation = 0.00833333\n",
    "F_test = 0.05\n",
    "Dt = defaultclock.dt = 1 * ms\n",
    "\n",
    "# -------class initialization----------------------\n",
    "function = MathFunctions()\n",
    "base = BaseFunctions()\n",
    "readout = Readout()\n",
    "MNIST = MNIST_classification(MNIST_shape, duration)\n",
    "\n",
    "# -------data initialization----------------------\n",
    "MNIST.load_Data_MNIST_all(data_path)\n",
    "df_train_validation = MNIST.select_data(F_train + F_validation, MNIST.train)\n",
    "df_train, df_validation = train_test_split(df_train_validation, \n",
    "                                           test_size=F_validation / (F_validation + F_train),\n",
    "                                           random_state=42)\n",
    "df_test = MNIST.select_data(F_test, MNIST.test)\n",
    "\n",
    "df_en_train = MNIST.encoding_latency_MNIST(MNIST._encoding_cos_rank_ignore_0, df_train, coding_n)\n",
    "df_en_validation = MNIST.encoding_latency_MNIST(MNIST._encoding_cos_rank_ignore_0, df_validation, coding_n)\n",
    "df_en_test = MNIST.encoding_latency_MNIST(MNIST._encoding_cos_rank_ignore_0, df_test, coding_n)\n",
    "\n",
    "data_train_s, label_train = MNIST.get_series_data_list(df_en_train, is_group=True)\n",
    "data_validation_s, label_validation = MNIST.get_series_data_list(df_en_validation, is_group=True)\n",
    "data_test_s, label_test = MNIST.get_series_data_list(df_en_test, is_group=True)\n",
    "\n",
    "# -------get numpy random state------------\n",
    "np_state = np.random.get_state()\n"
   ]
  },
  {
   "cell_type": "code",
   "execution_count": 98,
   "metadata": {},
   "outputs": [
    {
     "data": {
      "text/plain": [
       "3000"
      ]
     },
     "execution_count": 98,
     "metadata": {},
     "output_type": "execute_result"
    }
   ],
   "source": [
    "a = [(x) for x in zip(data_train_s, label_train)]\n",
    "len(a)"
   ]
  },
  {
   "cell_type": "code",
   "execution_count": 71,
   "metadata": {},
   "outputs": [
    {
     "data": {
      "text/plain": [
       "3.0"
      ]
     },
     "execution_count": 71,
     "metadata": {},
     "output_type": "execute_result"
    }
   ],
   "source": [
    "2352/28/28"
   ]
  },
  {
   "cell_type": "code",
   "execution_count": 87,
   "metadata": {},
   "outputs": [],
   "source": [
    "# ---- define network run function----\n",
    "\n",
    "\"\"\"\n",
    "run_net(inputs, parameter)\n",
    "    Parameters = [R, p_inE/I, f_in, f_EE, f_EI, f_IE, f_II, tau_ex, tau_inh]\n",
    "    \n",
    "    f_in: 线性输入层——池化层的突触连接强度参数\n",
    "    f_EE: 兴奋性——兴奋性,突触强度参数\n",
    "    f_EI: 兴奋性——抑制性,突触强度参数\n",
    "    f_IE:\n",
    "    f_II:\n",
    "    tau_ex: 兴奋性神经元的膜时间常数\n",
    "    tau_inh: 抑制性神经元的膜时间常数\n",
    "\"\"\"\n",
    "parameter = {\n",
    "    'R':    0.5,\n",
    "    'f_in': 0.5,\n",
    "    'f_EE': 0.5,\n",
    "    'f_EI': 0.5,\n",
    "    'f_IE': 0.5,\n",
    "    'f_II': 0.5,\n",
    "    'tau_ex': 0.5,\n",
    "    'tau_inh': 0.5,\n",
    "    'p_in': 0.5,\n",
    "}"
   ]
  },
  {
   "cell_type": "code",
   "execution_count": 88,
   "metadata": {},
   "outputs": [],
   "source": [
    "# ---- set numpy random state for each run----\n",
    "np.random.set_state(np_state)\n",
    "\n",
    "# -----parameter setting-------\n",
    "n_ex = 1600             # 兴奋性神经元数量\n",
    "n_inh = int(n_ex / 4)   # 抑制性神经元数量\n",
    "n_input = MNIST_shape[1] * coding_n # 784*3=2352\n",
    "n_read = n_ex + n_inh\n",
    "\n",
    "R = parameter['R']\n",
    "f_in = parameter['f_in']\n",
    "f_EE = parameter['f_EE']\n",
    "f_EI = parameter['f_EI']\n",
    "f_IE = parameter['f_IE']\n",
    "f_II = parameter['f_II']\n",
    "\n",
    "A_EE = 60 * f_EE\n",
    "A_EI = 60 * f_EI\n",
    "A_IE = 60 * f_IE\n",
    "A_II = 60 * f_II\n",
    "A_inE = 60 * f_in\n",
    "A_inI = 60 * f_in\n",
    "\n",
    "tau_ex = parameter['tau_ex'] * coding_duration\n",
    "tau_inh = parameter['tau_inh'] * coding_duration\n",
    "tau_read = 30\n",
    "\n",
    "p_inE = parameter['p_in'] * 0.1 # 线性输入层神经元与兴奋性神经元的连接概率\n",
    "p_inI = parameter['p_in'] * 0.1 # 线性输入层神经元与抑制性神经元的连接概率"
   ]
  },
  {
   "cell_type": "code",
   "execution_count": 89,
   "metadata": {},
   "outputs": [],
   "source": [
    "# ------definition of equation-------------\n",
    "neuron_in = '''\n",
    "I = stimulus(t,i) : 1\n",
    "'''\n",
    "\n",
    "neuron = '''\n",
    "tau : 1\n",
    "dv/dt = (I-v) / (tau*ms) : 1 (unless refractory)\n",
    "dg/dt = (-g)/(3*ms) : 1\n",
    "dh/dt = (-h)/(6*ms) : 1\n",
    "I = (g+h)+13.5: 1\n",
    "x : 1\n",
    "y : 1\n",
    "z : 1\n",
    "'''\n",
    "\n",
    "neuron_read = '''\n",
    "tau : 1\n",
    "dv/dt = (I-v) / (tau*ms) : 1\n",
    "dg/dt = (-g)/(3*ms) : 1 \n",
    "dh/dt = (-h)/(6*ms) : 1\n",
    "I = (g+h): 1\n",
    "'''\n",
    "\n",
    "synapse = '''w : 1'''\n",
    "\n",
    "on_pre_ex = '''g+=w''' # 兴奋性神经元，作为突触前神经元发放，将执行的代码\n",
    "\n",
    "on_pre_inh = '''h-=w''' # 抑制性神经元，作为突触前神经元发放，将执行的代码"
   ]
  },
  {
   "cell_type": "code",
   "execution_count": 90,
   "metadata": {},
   "outputs": [],
   "source": [
    "# -----Neurons setting-------\n",
    "Input = NeuronGroup(n_input, \n",
    "                    neuron_in, \n",
    "                    threshold='I > 0', \n",
    "                    method='euler', \n",
    "                    refractory=0 * ms,\n",
    "                    name='neurongroup_input')\n",
    "\n",
    "# excitatory兴奋性神经元\n",
    "G_ex = NeuronGroup(n_ex, \n",
    "                    neuron, \n",
    "                    threshold='v > 15', \n",
    "                    reset='v = 13.5', \n",
    "                    method='euler', \n",
    "                    refractory=3 * ms,\n",
    "                    name='neurongroup_ex')\n",
    "\n",
    "# inhibitory异质性神经元\n",
    "G_inh = NeuronGroup(n_inh, \n",
    "                    neuron, \n",
    "                    threshold='v > 15', \n",
    "                    reset='v = 13.5', \n",
    "                    method='euler', \n",
    "                    refractory=2 * ms,\n",
    "                    name='neurongroup_in')\n",
    "\n",
    "# 读出层\n",
    "G_readout = NeuronGroup(n_read, neuron_read, method='euler', name='neurongroup_read')"
   ]
  },
  {
   "cell_type": "code",
   "execution_count": 91,
   "metadata": {},
   "outputs": [],
   "source": [
    "# -----Synapses setting-------\n",
    "# 输入层——兴奋性\n",
    "S_inE = Synapses(Input, G_ex, synapse, on_pre=on_pre_ex, method='euler', name='synapses_inE')\n",
    "# 输入层——抑制性\n",
    "S_inI = Synapses(Input, G_inh, synapse, on_pre=on_pre_inh, method='euler', name='synapses_inI')\n",
    "# 兴奋性——兴奋性\n",
    "S_EE = Synapses(G_ex, G_ex, synapse, on_pre=on_pre_ex, method='euler', name='synapses_EE')\n",
    "# 兴奋性——抑制性\n",
    "S_EI = Synapses(G_ex, G_inh, synapse, on_pre=on_pre_ex, method='euler', name='synapses_EI')\n",
    "# 抑制性——兴奋性\n",
    "S_IE = Synapses(G_inh, G_ex, synapse, on_pre=on_pre_inh, method='euler', name='synapses_IE')\n",
    "# 抑制性——抑制性\n",
    "S_II = Synapses(G_inh, G_inh, synapse, on_pre=on_pre_inh, method='euler', name='synapses_I')\n",
    "# 兴奋性——读出层\n",
    "S_E_readout = Synapses(G_ex, G_readout, 'w = 1 : 1', on_pre=on_pre_ex, method='euler', name='synapses_Er')\n",
    "# 抑制性——读出层\n",
    "S_I_readout = Synapses(G_inh, G_readout, 'w = 1 : 1', on_pre=on_pre_inh, method='euler', name='synapses_Ir')\n",
    "\n",
    "# -------initialization of neuron parameters----------\n",
    "G_ex.v = '13.5+1.5*rand()'\n",
    "G_inh.v = '13.5+1.5*rand()'\n",
    "G_readout.v = '0'\n",
    "\n",
    "G_ex.g = '0'\n",
    "G_inh.g = '0'\n",
    "G_readout.g = '0'\n",
    "\n",
    "G_ex.h = '0'\n",
    "G_inh.h = '0'\n",
    "G_readout.h = '0'\n",
    "\n",
    "G_ex.tau = tau_ex # 时间常数\n",
    "G_inh.tau = tau_inh\n",
    "G_readout.tau = tau_read\n",
    "# 给神经元分配XYZ坐标\n",
    "[G_ex, G_in] = base.allocate([G_ex, G_inh], 10, 10, 20)"
   ]
  },
  {
   "cell_type": "code",
   "execution_count": 92,
   "metadata": {},
   "outputs": [],
   "source": [
    "# -------initialization of network topology and synapses parameters----------\n",
    "S_inE.connect(condition='j<0.3*N_post', p=p_inE)\n",
    "S_inI.connect(condition='j<0.3*N_post', p=p_inI)\n",
    "# 将neuron分配至3维空间，计算欧氏距离决定连接概率\n",
    "S_EE.connect(condition='i != j', p='0.3*exp(-((x_pre-x_post)**2+(y_pre-y_post)**2+(z_pre-z_post)**2)/R**2)')\n",
    "S_EI.connect(p='0.2*exp(-((x_pre-x_post)**2+(y_pre-y_post)**2+(z_pre-z_post)**2)/R**2)')\n",
    "S_IE.connect(p='0.4*exp(-((x_pre-x_post)**2+(y_pre-y_post)**2+(z_pre-z_post)**2)/R**2)')\n",
    "S_II.connect(condition='i != j', p='0.1*exp(-((x_pre-x_post)**2+(y_pre-y_post)**2+(z_pre-z_post)**2)/R**2)')\n",
    "S_E_readout.connect(j='i')\n",
    "S_I_readout.connect(j='i+n_ex')\n",
    "\n",
    "S_inE.w = function.gamma(A_inE, S_inE.w.shape) # gamma分布随机变量采样\n",
    "S_inI.w = function.gamma(A_inI, S_inI.w.shape)\n",
    "S_EE.w = function.gamma(A_EE, S_EE.w.shape)\n",
    "S_IE.w = function.gamma(A_IE, S_IE.w.shape)\n",
    "S_EI.w = function.gamma(A_EI, S_EI.w.shape)\n",
    "S_II.w = function.gamma(A_II, S_II.w.shape)\n",
    "\n",
    "S_EE.pre.delay = '1.5*ms'\n",
    "S_EI.pre.delay = '0.8*ms'\n",
    "S_IE.pre.delay = '0.8*ms'\n",
    "S_II.pre.delay = '0.8*ms'"
   ]
  },
  {
   "cell_type": "code",
   "execution_count": 93,
   "metadata": {},
   "outputs": [],
   "source": [
    "# ------create network-------------\n",
    "net = Network(collect())\n",
    "net.store('init')\n",
    "\n",
    "# ------run network-------------\n",
    "stimulus = TimedArray(a[0][0], dt=Dt)\n",
    "net.run(duration * Dt)\n",
    "states = net.get_states()['neurongroup_read']['v']\n",
    "net.restore('init')\n",
    "\n",
    "# return (states, inputs[1])"
   ]
  },
  {
   "cell_type": "code",
   "execution_count": 96,
   "metadata": {},
   "outputs": [
    {
     "data": {
      "text/plain": [
       "array([0.49336867, 0.48960581, 0.41650842, ..., 0.        , 0.        ,\n",
       "       0.        ])"
      ]
     },
     "execution_count": 96,
     "metadata": {},
     "output_type": "execute_result"
    }
   ],
   "source": [
    "states"
   ]
  },
  {
   "cell_type": "code",
   "execution_count": 51,
   "metadata": {},
   "outputs": [],
   "source": [
    "X, Y, Z = 10, 10, 20\n",
    "V = np.zeros((X, Y, Z), [('x', float), ('y', float), ('z', float)])\n",
    "V['x'], V['y'], V['z'] = np.meshgrid(np.linspace(0, Y - 1, Y), \n",
    "                                     np.linspace(0, X - 1, X),\n",
    "                                     np.linspace(0, Z - 1, Z))\n",
    "V = V.reshape(X * Y * Z)\n",
    "np.random.shuffle(V)\n",
    "n = 0"
   ]
  },
  {
   "cell_type": "code",
   "execution_count": 53,
   "metadata": {},
   "outputs": [
    {
     "name": "stdout",
     "output_type": "stream",
     "text": [
      "[1. 5. 2. ... 6. 8. 3.]\n"
     ]
    }
   ],
   "source": [
    "print(V['x'])"
   ]
  },
  {
   "cell_type": "code",
   "execution_count": 50,
   "metadata": {},
   "outputs": [
    {
     "data": {
      "text/plain": [
       "array([0., 1., 2., 3., 4., 5., 6., 7., 8., 9.])"
      ]
     },
     "execution_count": 50,
     "metadata": {},
     "output_type": "execute_result"
    }
   ],
   "source": [
    "np.linspace(0, Y - 1, Y)"
   ]
  }
 ],
 "metadata": {
  "kernelspec": {
   "display_name": "Python 3.10.4 ('snn')",
   "language": "python",
   "name": "python3"
  },
  "language_info": {
   "codemirror_mode": {
    "name": "ipython",
    "version": 3
   },
   "file_extension": ".py",
   "mimetype": "text/x-python",
   "name": "python",
   "nbconvert_exporter": "python",
   "pygments_lexer": "ipython3",
   "version": "3.10.4"
  },
  "orig_nbformat": 4,
  "vscode": {
   "interpreter": {
    "hash": "11258be7ed688ad17fb842cfa4c5a98bd0080db3600c9de549e6c092c4ad73b3"
   }
  }
 },
 "nbformat": 4,
 "nbformat_minor": 2
}
