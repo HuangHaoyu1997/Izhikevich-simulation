{
 "cells": [
  {
   "cell_type": "code",
   "execution_count": 2,
   "metadata": {},
   "outputs": [],
   "source": [
    "import numpy as np\n",
    "%matplotlib inline\n",
    "import matplotlib.pyplot as plt\n",
    "import torchvision\n",
    "\n",
    "class RC:\n",
    "    def __init__(self,\n",
    "                 N_input,\n",
    "                 N_hidden,\n",
    "                 N_output,\n",
    "                 alpha,\n",
    "                 ) -> None:\n",
    "        self.N_in = N_input\n",
    "        self.N_hid = N_hidden\n",
    "        self.N_out = N_output\n",
    "        self.alpha = alpha\n",
    "        \n",
    "    def reset(self,):\n",
    "        self.W_in = np.random.uniform(low=np.zeros((self.N_hid, self.N_in)), \n",
    "                                      high=np.ones((self.N_hid, self.N_in)))\n",
    "        self.A = np.random.uniform(low=np.zeros((self.N_hid, self.N_hid)), \n",
    "                                   high=np.ones((self.N_hid, self.N_hid)))\n",
    "        self.W_out = np.random.uniform(low=np.zeros((self.N_out, self.N_hid)), \n",
    "                                   high=np.ones((self.N_out, self.N_hid)))\n",
    "        self.r_history = np.zeros((self.N_hid, 1))\n",
    "        \n",
    "        \n",
    "    def activation(self, x):\n",
    "        return np.tanh(x)\n",
    "    \n",
    "    def forward(self, x):\n",
    "        Ar = np.matmul(self.A, self.r_history)\n",
    "        U = np.matmul(self.W_in, x)\n",
    "        r = (1-self.alpha) * self.r_history + self.alpha * self.activation(Ar + U)\n",
    "        y = np.matmul(self.W_out, r)\n",
    "        self.r_history = r\n",
    "        \n",
    "        return y"
   ]
  },
  {
   "cell_type": "code",
   "execution_count": 3,
   "metadata": {},
   "outputs": [
    {
     "name": "stderr",
     "output_type": "stream",
     "text": [
      "d:\\Anaconda3\\envs\\ai\\lib\\site-packages\\torchvision\\datasets\\mnist.py:498: UserWarning: The given NumPy array is not writeable, and PyTorch does not support non-writeable tensors. This means you can write to the underlying (supposedly non-writeable) NumPy array using the tensor. You may want to copy the array to protect its data or make it writeable before converting it to a tensor. This type of warning will be suppressed for the rest of this program. (Triggered internally at  ..\\torch\\csrc\\utils\\tensor_numpy.cpp:180.)\n",
      "  return torch.from_numpy(parsed.astype(m[2], copy=False)).view(*s)\n"
     ]
    },
    {
     "name": "stdout",
     "output_type": "stream",
     "text": [
      "train shape: torch.Size([60000, 28, 28])\n",
      "tensor([[0.1922, 0.9333, 0.9922, 0.9922, 0.9922, 0.9922, 0.9922],\n",
      "        [0.0706, 0.8588, 0.9922, 0.9922, 0.9922, 0.9922, 0.9922],\n",
      "        [0.0000, 0.3137, 0.6118, 0.4196, 0.9922, 0.9922, 0.8039],\n",
      "        [0.0000, 0.0000, 0.0549, 0.0039, 0.6039, 0.9922, 0.3529],\n",
      "        [0.0000, 0.0000, 0.0000, 0.0000, 0.5451, 0.9922, 0.7451],\n",
      "        [0.0000, 0.0000, 0.0000, 0.0000, 0.0431, 0.7451, 0.9922],\n",
      "        [0.0000, 0.0000, 0.0000, 0.0000, 0.0000, 0.1373, 0.9451]])\n"
     ]
    }
   ],
   "source": [
    "train = torchvision.datasets.MNIST(root='./reservoir/data/',\n",
    "                                        train=True,\n",
    "                                        transform=None,\n",
    "                                        download=False,\n",
    "                                        )\n",
    "train_data = train.data.float()/255\n",
    "print('train shape:', train_data.shape)\n",
    "print(train_data[0][7:14,7:14])\n"
   ]
  },
  {
   "cell_type": "code",
   "execution_count": 21,
   "metadata": {},
   "outputs": [],
   "source": [
    "img = (train.data[0].float()/255 > torch.rand(train.data[0].size())).float().numpy()"
   ]
  },
  {
   "cell_type": "code",
   "execution_count": 24,
   "metadata": {},
   "outputs": [],
   "source": [
    "    train_dataset = torchvision.datasets.MNIST(root= './reservoir/data/', train=True, download=False, transform=None)\n",
    "    train_loader = torch.utils.data.DataLoader(train_dataset, batch_size=1, shuffle=True, num_workers=0)\n"
   ]
  },
  {
   "cell_type": "code",
   "execution_count": 34,
   "metadata": {},
   "outputs": [
    {
     "data": {
      "text/plain": [
       "array([[1., 0., 0., 0., 0., 0., 0., 0., 0., 0.],\n",
       "       [0., 1., 0., 0., 0., 0., 0., 0., 0., 0.],\n",
       "       [0., 0., 1., 0., 0., 0., 0., 0., 0., 0.],\n",
       "       [0., 0., 0., 1., 0., 0., 0., 0., 0., 0.],\n",
       "       [0., 0., 0., 0., 1., 0., 0., 0., 0., 0.],\n",
       "       [0., 0., 0., 0., 0., 1., 0., 0., 0., 0.],\n",
       "       [0., 0., 0., 0., 0., 0., 1., 0., 0., 0.],\n",
       "       [0., 0., 0., 0., 0., 0., 0., 1., 0., 0.],\n",
       "       [0., 0., 0., 0., 0., 0., 0., 0., 1., 0.],\n",
       "       [0., 0., 0., 0., 0., 0., 0., 0., 0., 1.]])"
      ]
     },
     "execution_count": 34,
     "metadata": {},
     "output_type": "execute_result"
    }
   ],
   "source": [
    "np.eye(10)"
   ]
  },
  {
   "cell_type": "code",
   "execution_count": 33,
   "metadata": {},
   "outputs": [
    {
     "data": {
      "text/plain": [
       "array([[  8.98,  -0.59, -11.  ,  10.5 ,   1.44],\n",
       "       [ -2.02,  -0.28,   4.04,  -3.55,  -0.94],\n",
       "       [ -8.4 ,   1.7 ,   9.91,  -7.76,  -3.03],\n",
       "       [ -8.47,   1.53,  10.41, -10.63,  -0.96],\n",
       "       [ 10.53,  -2.08, -12.82,  12.39,   2.99]])"
      ]
     },
     "execution_count": 33,
     "metadata": {},
     "output_type": "execute_result"
    }
   ],
   "source": [
    "np.round(inv(np.random.rand(5, 5)),2)"
   ]
  },
  {
   "cell_type": "code",
   "execution_count": 46,
   "metadata": {},
   "outputs": [
    {
     "data": {
      "text/plain": [
       "array([[0.  , 0.13, 0.03, 0.14, 0.1 , 0.17, 0.11, 0.05, 0.16, 0.1 ],\n",
       "       [0.08, 0.11, 0.1 , 0.05, 0.07, 0.07, 0.17, 0.13, 0.07, 0.1 ],\n",
       "       [0.05, 0.13, 0.04, 0.09, 0.14, 0.14, 0.05, 0.14, 0.06, 0.12],\n",
       "       [0.11, 0.09, 0.05, 0.12, 0.11, 0.14, 0.07, 0.12, 0.04, 0.08],\n",
       "       [0.1 , 0.1 , 0.05, 0.1 , 0.11, 0.11, 0.16, 0.07, 0.07, 0.11]])"
      ]
     },
     "execution_count": 46,
     "metadata": {},
     "output_type": "execute_result"
    }
   ],
   "source": [
    "from scipy.linalg import pinv\n",
    "from numpy.linalg import inv\n",
    "X = np.random.rand(5, 600)\n",
    "R = np.random.rand(10, 600)\n",
    "R_inv = np.matmul(R.T, inv(np.matmul(R, R.T) + 1e-8*np.eye(10)))\n",
    "np.round(np.matmul(X, R_inv),2)"
   ]
  },
  {
   "cell_type": "code",
   "execution_count": 50,
   "metadata": {},
   "outputs": [
    {
     "data": {
      "text/plain": [
       "array([[0.  , 0.13, 0.03, 0.14, 0.1 , 0.17, 0.11, 0.05, 0.16, 0.1 ],\n",
       "       [0.08, 0.11, 0.1 , 0.05, 0.07, 0.07, 0.17, 0.13, 0.07, 0.1 ],\n",
       "       [0.05, 0.13, 0.04, 0.09, 0.14, 0.14, 0.05, 0.14, 0.06, 0.12],\n",
       "       [0.11, 0.09, 0.05, 0.12, 0.11, 0.14, 0.07, 0.12, 0.04, 0.08],\n",
       "       [0.1 , 0.1 , 0.05, 0.1 , 0.11, 0.11, 0.16, 0.07, 0.07, 0.11]])"
      ]
     },
     "execution_count": 50,
     "metadata": {},
     "output_type": "execute_result"
    }
   ],
   "source": [
    "np.round(np.matmul(X, pinv(R)), 2)"
   ]
  },
  {
   "cell_type": "code",
   "execution_count": 8,
   "metadata": {},
   "outputs": [
    {
     "data": {
      "text/plain": [
       "<matplotlib.image.AxesImage at 0x1d39c09d048>"
      ]
     },
     "execution_count": 8,
     "metadata": {},
     "output_type": "execute_result"
    },
    {
     "data": {
      "image/png": "[encoded data removed]",
      "text/plain": [
       "<Figure size 432x288 with 1 Axes>"
      ]
     },
     "metadata": {
      "needs_background": "light"
     },
     "output_type": "display_data"
    }
   ],
   "source": [
    "from torch.distributions import Poisson, Uniform\n",
    "import torch\n",
    "\n",
    "p = Uniform(low=torch.zeros(28,28), high=torch.ones(28,28))\n",
    "img = p.sample()\n",
    "idx = img<=(train_data[1000]-0.5)\n",
    "img = torch.zeros_like(img)\n",
    "img[idx] = 1\n",
    "plt.imshow(img)"
   ]
  },
  {
   "cell_type": "code",
   "execution_count": null,
   "metadata": {},
   "outputs": [],
   "source": [
    "img.flatten().numpy()"
   ]
  },
  {
   "cell_type": "code",
   "execution_count": null,
   "metadata": {},
   "outputs": [],
   "source": []
  }
 ],
 "metadata": {
  "kernelspec": {
   "display_name": "Python 3.6.8 ('ai')",
   "language": "python",
   "name": "python3"
  },
  "language_info": {
   "codemirror_mode": {
    "name": "ipython",
    "version": 3
   },
   "file_extension": ".py",
   "mimetype": "text/x-python",
   "name": "python",
   "nbconvert_exporter": "python",
   "pygments_lexer": "ipython3",
   "version": "3.6.8"
  },
  "orig_nbformat": 4,
  "vscode": {
   "interpreter": {
    "hash": "6333341fbbffcd56d5cc0c113aac57044b1e165b5c631658d7fce3237557af9e"
   }
  }
 },
 "nbformat": 4,
 "nbformat_minor": 2
}
