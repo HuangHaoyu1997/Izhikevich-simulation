{
 "cells": [
  {
   "cell_type": "code",
   "execution_count": 1,
   "metadata": {},
   "outputs": [],
   "source": [
    "import numpy as np\n",
    "%matplotlib inline\n",
    "import matplotlib.pyplot as plt\n",
    "import torchvision\n",
    "\n",
    "class RC:\n",
    "    def __init__(self,\n",
    "                 N_input,\n",
    "                 N_hidden,\n",
    "                 N_output,\n",
    "                 alpha,\n",
    "                 ) -> None:\n",
    "        self.N_in = N_input\n",
    "        self.N_hid = N_hidden\n",
    "        self.N_out = N_output\n",
    "        self.alpha = alpha\n",
    "        \n",
    "    def reset(self,):\n",
    "        self.W_in = np.random.uniform(low=np.zeros((self.N_hid, self.N_in)), \n",
    "                                      high=np.ones((self.N_hid, self.N_in)))\n",
    "        self.A = np.random.uniform(low=np.zeros((self.N_hid, self.N_hid)), \n",
    "                                   high=np.ones((self.N_hid, self.N_hid)))\n",
    "        self.W_out = np.random.uniform(low=np.zeros((self.N_out, self.N_hid)), \n",
    "                                   high=np.ones((self.N_out, self.N_hid)))\n",
    "        self.r_history = np.zeros((self.N_hid, 1))\n",
    "        \n",
    "        \n",
    "    def activation(self, x):\n",
    "        return np.tanh(x)\n",
    "    \n",
    "    def forward(self, x):\n",
    "        Ar = np.matmul(self.A, self.r_history)\n",
    "        U = np.matmul(self.W_in, x)\n",
    "        r = (1-self.alpha) * self.r_history + self.alpha * self.activation(Ar + U)\n",
    "        y = np.matmul(self.W_out, r)\n",
    "        self.r_history = r\n",
    "        \n",
    "        return y"
   ]
  },
  {
   "cell_type": "code",
   "execution_count": 27,
   "metadata": {},
   "outputs": [],
   "source": [
    "import random, torch\n",
    "import torchvision.transforms as transforms\n",
    "idx = random.sample(list(range(60000)), 600)\n",
    "train = torchvision.datasets.MNIST(root='./reservoir/data/',\n",
    "                                        train=True,\n",
    "                                        transform=transforms.ToTensor(),\n",
    "                                        download=False,\n",
    "                                        )\n",
    "train.data = train.data[idx]\n",
    "from torch.utils.data import DataLoader\n",
    "train_loader = torch.utils.data.DataLoader(train, \n",
    "                                               batch_size=10, \n",
    "                                               shuffle=True, \n",
    "                                               num_workers=0)\n"
   ]
  },
  {
   "cell_type": "code",
   "execution_count": 44,
   "metadata": {},
   "outputs": [],
   "source": [
    "X,Y,Z = 10,10,10\n",
    "V = np.zeros((X, Y, Z), [('x', float), ('y', float), ('z', float)])\n",
    "V['x'], V['y'], V['z'] = np.meshgrid(np.linspace(0, Y - 1, Y), \n",
    "                                        np.linspace(0, X - 1, X),\n",
    "                                        np.linspace(0, Z - 1, Z))\n",
    "V = V.reshape(X * Y * Z)\n",
    "np.random.shuffle(V)\n"
   ]
  },
  {
   "cell_type": "code",
   "execution_count": 98,
   "metadata": {},
   "outputs": [
    {
     "data": {
      "text/plain": [
       "array([[0.23696368, 0.07118681, 0.85620357],\n",
       "       [0.50449124, 1.11545871, 0.32038136],\n",
       "       [2.07367005, 0.33817372, 2.24630628]])"
      ]
     },
     "execution_count": 98,
     "metadata": {},
     "output_type": "execute_result"
    }
   ],
   "source": [
    "np.random.gamma(1,size=(3,3))"
   ]
  },
  {
   "cell_type": "code",
   "execution_count": 117,
   "metadata": {},
   "outputs": [
    {
     "data": {
      "text/plain": [
       "[-10, 1010, 0, 1]"
      ]
     },
     "execution_count": 117,
     "metadata": {},
     "output_type": "execute_result"
    },
    {
     "data": {
      "image/png": "[encoded data removed]",
      "text/plain": [
       "<Figure size 432x288 with 1 Axes>"
      ]
     },
     "metadata": {
      "needs_background": "light"
     },
     "output_type": "display_data"
    }
   ],
   "source": [
    "dis = []\n",
    "for i in range(1000):\n",
    "    distance = np.exp(-np.sqrt((V[100][0]-V[i][0])**2+\n",
    "                                (V[100][1]-V[i][1])**2+\n",
    "                                (V[100][2]-V[i][2])**2)*0.3\n",
    "                     )\n",
    "    dis.append(distance)\n",
    "\n",
    "plt.plot(dis,'o')\n",
    "plt.axis([-10,1010,0,1])"
   ]
  },
  {
   "cell_type": "code",
   "execution_count": 30,
   "metadata": {},
   "outputs": [
    {
     "name": "stdout",
     "output_type": "stream",
     "text": [
      "[58, 79, 64, 59, 59, 51, 54, 62, 49, 65]\n"
     ]
    }
   ],
   "source": [
    "label_count = [0]*10\n",
    "for i, (images, labels) in enumerate(train_loader):\n",
    "    for l in labels:\n",
    "        label_count[l] += 1\n",
    "print(label_count)"
   ]
  },
  {
   "cell_type": "code",
   "execution_count": 3,
   "metadata": {},
   "outputs": [
    {
     "name": "stdout",
     "output_type": "stream",
     "text": [
      "train shape: torch.Size([60000, 28, 28])\n"
     ]
    }
   ],
   "source": [
    "train = torchvision.datasets.MNIST(root='./reservoir/data/',\n",
    "                                        train=True,\n",
    "                                        transform=None,\n",
    "                                        download=False,\n",
    "                                        )\n",
    "train_data = train.data.float()/255\n",
    "print('train shape:', train_data.shape)\n"
   ]
  },
  {
   "cell_type": "code",
   "execution_count": 21,
   "metadata": {},
   "outputs": [],
   "source": [
    "img = (train.data[0].float()/255 > torch.rand(train.data[0].size())).float().numpy()"
   ]
  },
  {
   "cell_type": "code",
   "execution_count": 24,
   "metadata": {},
   "outputs": [],
   "source": [
    "    train_dataset = torchvision.datasets.MNIST(root= './reservoir/data/', train=True, download=False, transform=None)\n",
    "    train_loader = torch.utils.data.DataLoader(train_dataset, batch_size=1, shuffle=True, num_workers=0)\n"
   ]
  },
  {
   "cell_type": "code",
   "execution_count": 34,
   "metadata": {},
   "outputs": [
    {
     "data": {
      "text/plain": [
       "array([[1., 0., 0., 0., 0., 0., 0., 0., 0., 0.],\n",
       "       [0., 1., 0., 0., 0., 0., 0., 0., 0., 0.],\n",
       "       [0., 0., 1., 0., 0., 0., 0., 0., 0., 0.],\n",
       "       [0., 0., 0., 1., 0., 0., 0., 0., 0., 0.],\n",
       "       [0., 0., 0., 0., 1., 0., 0., 0., 0., 0.],\n",
       "       [0., 0., 0., 0., 0., 1., 0., 0., 0., 0.],\n",
       "       [0., 0., 0., 0., 0., 0., 1., 0., 0., 0.],\n",
       "       [0., 0., 0., 0., 0., 0., 0., 1., 0., 0.],\n",
       "       [0., 0., 0., 0., 0., 0., 0., 0., 1., 0.],\n",
       "       [0., 0., 0., 0., 0., 0., 0., 0., 0., 1.]])"
      ]
     },
     "execution_count": 34,
     "metadata": {},
     "output_type": "execute_result"
    }
   ],
   "source": [
    "np.eye(10)"
   ]
  },
  {
   "cell_type": "code",
   "execution_count": 33,
   "metadata": {},
   "outputs": [
    {
     "data": {
      "text/plain": [
       "array([[  8.98,  -0.59, -11.  ,  10.5 ,   1.44],\n",
       "       [ -2.02,  -0.28,   4.04,  -3.55,  -0.94],\n",
       "       [ -8.4 ,   1.7 ,   9.91,  -7.76,  -3.03],\n",
       "       [ -8.47,   1.53,  10.41, -10.63,  -0.96],\n",
       "       [ 10.53,  -2.08, -12.82,  12.39,   2.99]])"
      ]
     },
     "execution_count": 33,
     "metadata": {},
     "output_type": "execute_result"
    }
   ],
   "source": [
    "np.round(inv(np.random.rand(5, 5)),2)"
   ]
  },
  {
   "cell_type": "code",
   "execution_count": 46,
   "metadata": {},
   "outputs": [
    {
     "data": {
      "text/plain": [
       "array([[0.  , 0.13, 0.03, 0.14, 0.1 , 0.17, 0.11, 0.05, 0.16, 0.1 ],\n",
       "       [0.08, 0.11, 0.1 , 0.05, 0.07, 0.07, 0.17, 0.13, 0.07, 0.1 ],\n",
       "       [0.05, 0.13, 0.04, 0.09, 0.14, 0.14, 0.05, 0.14, 0.06, 0.12],\n",
       "       [0.11, 0.09, 0.05, 0.12, 0.11, 0.14, 0.07, 0.12, 0.04, 0.08],\n",
       "       [0.1 , 0.1 , 0.05, 0.1 , 0.11, 0.11, 0.16, 0.07, 0.07, 0.11]])"
      ]
     },
     "execution_count": 46,
     "metadata": {},
     "output_type": "execute_result"
    }
   ],
   "source": [
    "from scipy.linalg import pinv\n",
    "from numpy.linalg import inv\n",
    "X = np.random.rand(5, 600)\n",
    "R = np.random.rand(10, 600)\n",
    "R_inv = np.matmul(R.T, inv(np.matmul(R, R.T) + 1e-8*np.eye(10)))\n",
    "np.round(np.matmul(X, R_inv),2)"
   ]
  },
  {
   "cell_type": "code",
   "execution_count": 50,
   "metadata": {},
   "outputs": [
    {
     "data": {
      "text/plain": [
       "array([[0.  , 0.13, 0.03, 0.14, 0.1 , 0.17, 0.11, 0.05, 0.16, 0.1 ],\n",
       "       [0.08, 0.11, 0.1 , 0.05, 0.07, 0.07, 0.17, 0.13, 0.07, 0.1 ],\n",
       "       [0.05, 0.13, 0.04, 0.09, 0.14, 0.14, 0.05, 0.14, 0.06, 0.12],\n",
       "       [0.11, 0.09, 0.05, 0.12, 0.11, 0.14, 0.07, 0.12, 0.04, 0.08],\n",
       "       [0.1 , 0.1 , 0.05, 0.1 , 0.11, 0.11, 0.16, 0.07, 0.07, 0.11]])"
      ]
     },
     "execution_count": 50,
     "metadata": {},
     "output_type": "execute_result"
    }
   ],
   "source": [
    "np.round(np.matmul(X, pinv(R)), 2)"
   ]
  },
  {
   "cell_type": "code",
   "execution_count": 8,
   "metadata": {},
   "outputs": [
    {
     "data": {
      "text/plain": [
       "<matplotlib.image.AxesImage at 0x1d39c09d048>"
      ]
     },
     "execution_count": 8,
     "metadata": {},
     "output_type": "execute_result"
    },
    {
     "data": {
      "image/png": "[encoded data removed]",
      "text/plain": [
       "<Figure size 432x288 with 1 Axes>"
      ]
     },
     "metadata": {
      "needs_background": "light"
     },
     "output_type": "display_data"
    }
   ],
   "source": [
    "from torch.distributions import Poisson, Uniform\n",
    "import torch\n",
    "\n",
    "p = Uniform(low=torch.zeros(28,28), high=torch.ones(28,28))\n",
    "img = p.sample()\n",
    "idx = img<=(train_data[1000]-0.5)\n",
    "img = torch.zeros_like(img)\n",
    "img[idx] = 1\n",
    "plt.imshow(img)"
   ]
  },
  {
   "cell_type": "code",
   "execution_count": null,
   "metadata": {},
   "outputs": [],
   "source": [
    "img.flatten().numpy()"
   ]
  },
  {
   "cell_type": "code",
   "execution_count": null,
   "metadata": {},
   "outputs": [],
   "source": []
  }
 ],
 "metadata": {
  "kernelspec": {
   "display_name": "Python 3.6.8 ('ai')",
   "language": "python",
   "name": "python3"
  },
  "language_info": {
   "codemirror_mode": {
    "name": "ipython",
    "version": 3
   },
   "file_extension": ".py",
   "mimetype": "text/x-python",
   "name": "python",
   "nbconvert_exporter": "python",
   "pygments_lexer": "ipython3",
   "version": "3.6.8"
  },
  "orig_nbformat": 4,
  "vscode": {
   "interpreter": {
    "hash": "6333341fbbffcd56d5cc0c113aac57044b1e165b5c631658d7fce3237557af9e"
   }
  }
 },
 "nbformat": 4,
 "nbformat_minor": 2
}
